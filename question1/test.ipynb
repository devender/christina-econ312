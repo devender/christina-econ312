{
 "cells": [
  {
   "cell_type": "code",
   "execution_count": null,
   "id": "initial_id",
   "metadata": {
    "collapsed": true
   },
   "outputs": [],
   "source": []
  },
  {
   "cell_type": "code",
   "execution_count": 1,
   "outputs": [
    {
     "data": {
      "text/plain": "   faminc  cigtax    cigprice  bwght  fatheduc  motheduc  parity  male  white  \\\n0    13.5    16.5  122.300003    109      12.0      12.0       1     1      1   \n1     7.5    16.5  122.300003    133       6.0      12.0       2     1      0   \n2     0.5    16.5  122.300003    129       NaN      12.0       2     0      0   \n3    15.5    16.5  122.300003    126      12.0      12.0       2     1      0   \n4    27.5    16.5  122.300003    134      14.0      12.0       2     1      1   \n\n   cigs    lbwght  bwghtlbs  packs   lfaminc  \n0     0  4.691348    6.8125    0.0  2.602690  \n1     0  4.890349    8.3125    0.0  2.014903  \n2     0  4.859812    8.0625    0.0 -0.693147  \n3     0  4.836282    7.8750    0.0  2.740840  \n4     0  4.897840    8.3750    0.0  3.314186  ",
      "text/html": "<div>\n<style scoped>\n    .dataframe tbody tr th:only-of-type {\n        vertical-align: middle;\n    }\n\n    .dataframe tbody tr th {\n        vertical-align: top;\n    }\n\n    .dataframe thead th {\n        text-align: right;\n    }\n</style>\n<table border=\"1\" class=\"dataframe\">\n  <thead>\n    <tr style=\"text-align: right;\">\n      <th></th>\n      <th>faminc</th>\n      <th>cigtax</th>\n      <th>cigprice</th>\n      <th>bwght</th>\n      <th>fatheduc</th>\n      <th>motheduc</th>\n      <th>parity</th>\n      <th>male</th>\n      <th>white</th>\n      <th>cigs</th>\n      <th>lbwght</th>\n      <th>bwghtlbs</th>\n      <th>packs</th>\n      <th>lfaminc</th>\n    </tr>\n  </thead>\n  <tbody>\n    <tr>\n      <th>0</th>\n      <td>13.5</td>\n      <td>16.5</td>\n      <td>122.300003</td>\n      <td>109</td>\n      <td>12.0</td>\n      <td>12.0</td>\n      <td>1</td>\n      <td>1</td>\n      <td>1</td>\n      <td>0</td>\n      <td>4.691348</td>\n      <td>6.8125</td>\n      <td>0.0</td>\n      <td>2.602690</td>\n    </tr>\n    <tr>\n      <th>1</th>\n      <td>7.5</td>\n      <td>16.5</td>\n      <td>122.300003</td>\n      <td>133</td>\n      <td>6.0</td>\n      <td>12.0</td>\n      <td>2</td>\n      <td>1</td>\n      <td>0</td>\n      <td>0</td>\n      <td>4.890349</td>\n      <td>8.3125</td>\n      <td>0.0</td>\n      <td>2.014903</td>\n    </tr>\n    <tr>\n      <th>2</th>\n      <td>0.5</td>\n      <td>16.5</td>\n      <td>122.300003</td>\n      <td>129</td>\n      <td>NaN</td>\n      <td>12.0</td>\n      <td>2</td>\n      <td>0</td>\n      <td>0</td>\n      <td>0</td>\n      <td>4.859812</td>\n      <td>8.0625</td>\n      <td>0.0</td>\n      <td>-0.693147</td>\n    </tr>\n    <tr>\n      <th>3</th>\n      <td>15.5</td>\n      <td>16.5</td>\n      <td>122.300003</td>\n      <td>126</td>\n      <td>12.0</td>\n      <td>12.0</td>\n      <td>2</td>\n      <td>1</td>\n      <td>0</td>\n      <td>0</td>\n      <td>4.836282</td>\n      <td>7.8750</td>\n      <td>0.0</td>\n      <td>2.740840</td>\n    </tr>\n    <tr>\n      <th>4</th>\n      <td>27.5</td>\n      <td>16.5</td>\n      <td>122.300003</td>\n      <td>134</td>\n      <td>14.0</td>\n      <td>12.0</td>\n      <td>2</td>\n      <td>1</td>\n      <td>1</td>\n      <td>0</td>\n      <td>4.897840</td>\n      <td>8.3750</td>\n      <td>0.0</td>\n      <td>3.314186</td>\n    </tr>\n  </tbody>\n</table>\n</div>"
     },
     "execution_count": 1,
     "metadata": {},
     "output_type": "execute_result"
    }
   ],
   "source": [
    "import wooldridge\n",
    "\n",
    "df = wooldridge.data('BWGHT')\n",
    "\n",
    "df.head()"
   ],
   "metadata": {
    "collapsed": false,
    "ExecuteTime": {
     "end_time": "2023-09-03T09:59:15.574869Z",
     "start_time": "2023-09-03T09:59:15.086610Z"
    }
   },
   "id": "85ab2afd4d212c80"
  },
  {
   "cell_type": "code",
   "execution_count": 2,
   "outputs": [
    {
     "name": "stdout",
     "output_type": "stream",
     "text": [
      "<class 'pandas.core.frame.DataFrame'>\n",
      "RangeIndex: 1388 entries, 0 to 1387\n",
      "Data columns (total 14 columns):\n",
      " #   Column    Non-Null Count  Dtype  \n",
      "---  ------    --------------  -----  \n",
      " 0   faminc    1388 non-null   float64\n",
      " 1   cigtax    1388 non-null   float64\n",
      " 2   cigprice  1388 non-null   float64\n",
      " 3   bwght     1388 non-null   int64  \n",
      " 4   fatheduc  1192 non-null   float64\n",
      " 5   motheduc  1387 non-null   float64\n",
      " 6   parity    1388 non-null   int64  \n",
      " 7   male      1388 non-null   int64  \n",
      " 8   white     1388 non-null   int64  \n",
      " 9   cigs      1388 non-null   int64  \n",
      " 10  lbwght    1388 non-null   float64\n",
      " 11  bwghtlbs  1388 non-null   float64\n",
      " 12  packs     1388 non-null   float64\n",
      " 13  lfaminc   1388 non-null   float64\n",
      "dtypes: float64(9), int64(5)\n",
      "memory usage: 151.9 KB\n"
     ]
    }
   ],
   "source": [
    "df.info()"
   ],
   "metadata": {
    "collapsed": false,
    "ExecuteTime": {
     "end_time": "2023-09-03T09:59:47.405677Z",
     "start_time": "2023-09-03T09:59:47.395647Z"
    }
   },
   "id": "c2394f79b263d840"
  },
  {
   "cell_type": "code",
   "execution_count": 3,
   "outputs": [],
   "source": [
    "fatheduc_col = df.loc[:,\"fatheduc\"]"
   ],
   "metadata": {
    "collapsed": false,
    "ExecuteTime": {
     "end_time": "2023-09-03T10:01:09.819692Z",
     "start_time": "2023-09-03T10:01:09.813138Z"
    }
   },
   "id": "856915a39d45bba3"
  },
  {
   "cell_type": "code",
   "execution_count": 4,
   "outputs": [
    {
     "name": "stdout",
     "output_type": "stream",
     "text": [
      "[12.  6. nan ... 18. nan 16.]\n"
     ]
    }
   ],
   "source": [
    "fatheduc_values = df['fatheduc'].values\n",
    "motheduc_values = df['motheduc'].values\n",
    "print(fatheduc_values)"
   ],
   "metadata": {
    "collapsed": false,
    "ExecuteTime": {
     "end_time": "2023-09-03T10:05:23.733851Z",
     "start_time": "2023-09-03T10:05:23.728987Z"
    }
   },
   "id": "9f597879300baff1"
  },
  {
   "cell_type": "code",
   "execution_count": null,
   "outputs": [],
   "source": [],
   "metadata": {
    "collapsed": false
   },
   "id": "a5ee9a348babdd3d"
  }
 ],
 "metadata": {
  "kernelspec": {
   "display_name": "Python 3",
   "language": "python",
   "name": "python3"
  },
  "language_info": {
   "codemirror_mode": {
    "name": "ipython",
    "version": 2
   },
   "file_extension": ".py",
   "mimetype": "text/x-python",
   "name": "python",
   "nbconvert_exporter": "python",
   "pygments_lexer": "ipython2",
   "version": "2.7.6"
  }
 },
 "nbformat": 4,
 "nbformat_minor": 5
}
