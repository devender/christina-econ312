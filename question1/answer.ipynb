{
 "cells": [
  {
   "cell_type": "code",
   "execution_count": 1,
   "id": "initial_id",
   "metadata": {
    "collapsed": true,
    "ExecuteTime": {
     "end_time": "2023-09-03T10:04:24.918769Z",
     "start_time": "2023-09-03T10:04:24.495628Z"
    }
   },
   "outputs": [
    {
     "name": "stdout",
     "output_type": "stream",
     "text": [
      "<class 'pandas.core.frame.DataFrame'>\n",
      "RangeIndex: 1388 entries, 0 to 1387\n",
      "Data columns (total 14 columns):\n",
      " #   Column    Non-Null Count  Dtype  \n",
      "---  ------    --------------  -----  \n",
      " 0   faminc    1388 non-null   float64\n",
      " 1   cigtax    1388 non-null   float64\n",
      " 2   cigprice  1388 non-null   float64\n",
      " 3   bwght     1388 non-null   int64  \n",
      " 4   fatheduc  1192 non-null   float64\n",
      " 5   motheduc  1387 non-null   float64\n",
      " 6   parity    1388 non-null   int64  \n",
      " 7   male      1388 non-null   int64  \n",
      " 8   white     1388 non-null   int64  \n",
      " 9   cigs      1388 non-null   int64  \n",
      " 10  lbwght    1388 non-null   float64\n",
      " 11  bwghtlbs  1388 non-null   float64\n",
      " 12  packs     1388 non-null   float64\n",
      " 13  lfaminc   1388 non-null   float64\n",
      "dtypes: float64(9), int64(5)\n",
      "memory usage: 151.9 KB\n"
     ]
    }
   ],
   "source": [
    "# load data from woolridge\n",
    "# DataSet BWGHT contains 1388 observations on birth weight and other characteristics of babies born in North Carolina in 1988.\n",
    "#   1. faminc                   1988 family income, $1000s\n",
    "#   2. cigtax                   cig. tax in home state, 1988\n",
    "#   3. cigprice                 cig. price in home state, 1988\n",
    "#   4. bwght                    birth weight, ounces\n",
    "#   5. fatheduc                 father's yrs of educ\n",
    "#   6. motheduc                 mother's yrs of educ\n",
    "#   7. parity                   birth order of child\n",
    "#   8. male                     =1 if male child\n",
    "#   9. white                    =1 if white\n",
    "#  10. cigs                     cigs smked per day while preg\n",
    "#  11. lbwght                   log of bwght\n",
    "#  12. bwghtlbs                 birth weight, pounds\n",
    "#  13. packs                    packs smked per day while preg\n",
    "#  14. lfaminc                  log(faminc)\n",
    "\n",
    "import wooldridge\n",
    "\n",
    "df = wooldridge.data('BWGHT')\n",
    "df.info()"
   ]
  },
  {
   "cell_type": "code",
   "execution_count": 2,
   "outputs": [
    {
     "name": "stdout",
     "output_type": "stream",
     "text": [
      "fatheduc_average: 13.186241610738255, fatheduc_std: 2.745984682114012, fatheduc_zscore: 1.7530172038526615\n",
      "motheduc_average: 12.935832732516221, motheduc_std: 2.3767283698410244, motheduc_zscore: 2.130730348383275\n"
     ]
    }
   ],
   "source": [
    "# Find the average and standard deviation of fatheduc and motheduc and calculate the Z scores values of 18 (years) for fatheduc and motheduc.\n",
    "# Z score is a numerical measurement that describes a value's relationship to the mean of a group of values.\n",
    "# Z score is measured in terms of standard deviations from the mean.\n",
    "\n",
    "fatheduc_average = df['fatheduc'].mean()\n",
    "fatheduc_std = df['fatheduc'].std()\n",
    "fatheduc_zscore = (18 - fatheduc_average) / fatheduc_std\n",
    "\n",
    "\n",
    "motheduc_average = df['motheduc'].mean()\n",
    "motheduc_std = df['motheduc'].std()\n",
    "motheduc_zscore = (18 - motheduc_average) / motheduc_std\n",
    "\n",
    "print(f\"fatheduc_average: {fatheduc_average}, fatheduc_std: {fatheduc_std}, fatheduc_zscore: {fatheduc_zscore}\")\n",
    "print(f\"motheduc_average: {motheduc_average}, motheduc_std: {motheduc_std}, motheduc_zscore: {motheduc_zscore}\")"
   ],
   "metadata": {
    "collapsed": false,
    "ExecuteTime": {
     "end_time": "2023-09-03T10:11:50.998756Z",
     "start_time": "2023-09-03T10:11:50.994312Z"
    }
   },
   "id": "e3302324f3fa1cc4"
  },
  {
   "cell_type": "code",
   "execution_count": 7,
   "outputs": [
    {
     "data": {
      "text/plain": "TtestResult(statistic=nan, pvalue=nan, df=nan)"
     },
     "execution_count": 7,
     "metadata": {},
     "output_type": "execute_result"
    }
   ],
   "source": [
    "# Perform T-test on average education of fatheduc and motheduc.\n",
    "\n",
    "# A t test is a statistical test that is used to compare the means of two groups. \n",
    "# A t test can only be used when comparing the means of two groups \n",
    "\n",
    "# What type of t-test should we use?\n",
    "#   1. One sample t-test: compare the mean of a sample to a known value\n",
    "#   2. Independent samples t-test: compare the means of two unrelated groups\n",
    "#   3. Paired sample t-test: compare means from the same group at different times (say, one year apart)\n",
    "\n",
    "# We will use independent samples t-test\n",
    "fatheduc = df['fatheduc']\n",
    "motheduc = df['motheduc']\n",
    "\n",
    "from scipy.stats import ttest_ind\n",
    "ttest_ind(fatheduc, motheduc)"
   ],
   "metadata": {
    "collapsed": false,
    "ExecuteTime": {
     "end_time": "2023-09-03T10:39:34.081280Z",
     "start_time": "2023-09-03T10:39:34.076112Z"
    }
   },
   "id": "744f59c877f56d57"
  },
  {
   "cell_type": "code",
   "execution_count": 8,
   "outputs": [],
   "source": [
    "# The nan (Not a Number) result for the t-test statistic and p-value usually occurs when there are missing values (NaN) in the data set.\n",
    "\n",
    "# Remove rows with missing values in both variables\n",
    "import numpy as np\n",
    "\n",
    "valid_rows = np.logical_and(~np.isnan(motheduc), ~np.isnan(fatheduc))\n",
    "motheduc = motheduc[valid_rows]\n",
    "fatheduc = fatheduc[valid_rows]"
   ],
   "metadata": {
    "collapsed": false,
    "ExecuteTime": {
     "end_time": "2023-09-03T10:39:37.564152Z",
     "start_time": "2023-09-03T10:39:37.561211Z"
    }
   },
   "id": "f619a2ff0ca396e"
  },
  {
   "cell_type": "code",
   "execution_count": 9,
   "outputs": [
    {
     "name": "stdout",
     "output_type": "stream",
     "text": [
      "t_statistic: -0.6263124402554152, p_value: 0.5311700909252421\n"
     ]
    }
   ],
   "source": [
    "t_statistic, p_value = ttest_ind(motheduc, fatheduc)\n",
    "print(f\"t_statistic: {t_statistic}, p_value: {p_value}\")"
   ],
   "metadata": {
    "collapsed": false,
    "ExecuteTime": {
     "end_time": "2023-09-03T10:40:04.357986Z",
     "start_time": "2023-09-03T10:40:04.347018Z"
    }
   },
   "id": "657707bdb1bb39a9"
  },
  {
   "cell_type": "code",
   "execution_count": 10,
   "outputs": [
    {
     "name": "stdout",
     "output_type": "stream",
     "text": [
      "f_statistic: 0.39226727281869556, p_value: 0.5311700909246393\n"
     ]
    }
   ],
   "source": [
    "# Find the Variance of fatheduc and variance of motheduc and calculate the F statistics.\n",
    "# F statistic is a value you get when you run an ANOVA test or a regression analysis to find out if the means between two populations are significantly different.  \n",
    "\n",
    "from scipy.stats import f_oneway\n",
    "f_statistic, p_value = f_oneway(fatheduc, motheduc)\n",
    "print(f\"f_statistic: {f_statistic}, p_value: {p_value}\")"
   ],
   "metadata": {
    "collapsed": false,
    "ExecuteTime": {
     "end_time": "2023-09-03T10:40:58.432515Z",
     "start_time": "2023-09-03T10:40:58.421239Z"
    }
   },
   "id": "5a10e2600d4c928c"
  },
  {
   "cell_type": "code",
   "execution_count": 11,
   "outputs": [
    {
     "data": {
      "text/plain": "          fatheduc  motheduc\nfatheduc  1.000000  0.643483\nmotheduc  0.643483  1.000000",
      "text/html": "<div>\n<style scoped>\n    .dataframe tbody tr th:only-of-type {\n        vertical-align: middle;\n    }\n\n    .dataframe tbody tr th {\n        vertical-align: top;\n    }\n\n    .dataframe thead th {\n        text-align: right;\n    }\n</style>\n<table border=\"1\" class=\"dataframe\">\n  <thead>\n    <tr style=\"text-align: right;\">\n      <th></th>\n      <th>fatheduc</th>\n      <th>motheduc</th>\n    </tr>\n  </thead>\n  <tbody>\n    <tr>\n      <th>fatheduc</th>\n      <td>1.000000</td>\n      <td>0.643483</td>\n    </tr>\n    <tr>\n      <th>motheduc</th>\n      <td>0.643483</td>\n      <td>1.000000</td>\n    </tr>\n  </tbody>\n</table>\n</div>"
     },
     "execution_count": 11,
     "metadata": {},
     "output_type": "execute_result"
    }
   ],
   "source": [
    "# Find the correlation between fatheduc and motheduc.\n",
    "# Correlation is a statistical measure that expresses the extent to which two variables are linearly related (meaning they change together at a constant rate).\n",
    "\n",
    "df[['fatheduc', 'motheduc']].corr()\n"
   ],
   "metadata": {
    "collapsed": false,
    "ExecuteTime": {
     "end_time": "2023-09-03T10:41:20.154938Z",
     "start_time": "2023-09-03T10:41:20.143963Z"
    }
   },
   "id": "992464e024d88bc9"
  },
  {
   "cell_type": "code",
   "execution_count": null,
   "outputs": [],
   "source": [],
   "metadata": {
    "collapsed": false
   },
   "id": "8a43da47b4da731e"
  }
 ],
 "metadata": {
  "kernelspec": {
   "display_name": "Python 3",
   "language": "python",
   "name": "python3"
  },
  "language_info": {
   "codemirror_mode": {
    "name": "ipython",
    "version": 2
   },
   "file_extension": ".py",
   "mimetype": "text/x-python",
   "name": "python",
   "nbconvert_exporter": "python",
   "pygments_lexer": "ipython2",
   "version": "2.7.6"
  }
 },
 "nbformat": 4,
 "nbformat_minor": 5
}
