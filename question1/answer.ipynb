{
 "cells": [
  {
   "cell_type": "code",
   "execution_count": 1,
   "id": "initial_id",
   "metadata": {
    "collapsed": true,
    "ExecuteTime": {
     "end_time": "2023-09-03T10:04:24.918769Z",
     "start_time": "2023-09-03T10:04:24.495628Z"
    }
   },
   "outputs": [
    {
     "name": "stdout",
     "output_type": "stream",
     "text": [
      "<class 'pandas.core.frame.DataFrame'>\n",
      "RangeIndex: 1388 entries, 0 to 1387\n",
      "Data columns (total 14 columns):\n",
      " #   Column    Non-Null Count  Dtype  \n",
      "---  ------    --------------  -----  \n",
      " 0   faminc    1388 non-null   float64\n",
      " 1   cigtax    1388 non-null   float64\n",
      " 2   cigprice  1388 non-null   float64\n",
      " 3   bwght     1388 non-null   int64  \n",
      " 4   fatheduc  1192 non-null   float64\n",
      " 5   motheduc  1387 non-null   float64\n",
      " 6   parity    1388 non-null   int64  \n",
      " 7   male      1388 non-null   int64  \n",
      " 8   white     1388 non-null   int64  \n",
      " 9   cigs      1388 non-null   int64  \n",
      " 10  lbwght    1388 non-null   float64\n",
      " 11  bwghtlbs  1388 non-null   float64\n",
      " 12  packs     1388 non-null   float64\n",
      " 13  lfaminc   1388 non-null   float64\n",
      "dtypes: float64(9), int64(5)\n",
      "memory usage: 151.9 KB\n"
     ]
    }
   ],
   "source": [
    "# load data from woolridge\n",
    "# DataSet BWGHT contains 1388 observations on birth weight and other characteristics of babies born in North Carolina in 1988.\n",
    "#   1. faminc                   1988 family income, $1000s\n",
    "#   2. cigtax                   cig. tax in home state, 1988\n",
    "#   3. cigprice                 cig. price in home state, 1988\n",
    "#   4. bwght                    birth weight, ounces\n",
    "#   5. fatheduc                 father's yrs of educ\n",
    "#   6. motheduc                 mother's yrs of educ\n",
    "#   7. parity                   birth order of child\n",
    "#   8. male                     =1 if male child\n",
    "#   9. white                    =1 if white\n",
    "#  10. cigs                     cigs smked per day while preg\n",
    "#  11. lbwght                   log of bwght\n",
    "#  12. bwghtlbs                 birth weight, pounds\n",
    "#  13. packs                    packs smked per day while preg\n",
    "#  14. lfaminc                  log(faminc)\n",
    "\n",
    "import wooldridge\n",
    "\n",
    "df = wooldridge.data('BWGHT')\n",
    "df.info()"
   ]
  },
  {
   "cell_type": "code",
   "execution_count": 2,
   "outputs": [
    {
     "name": "stdout",
     "output_type": "stream",
     "text": [
      "fatheduc_average: 13.186241610738255, fatheduc_std: 2.745984682114012, fatheduc_zscore: 1.7530172038526615\n",
      "motheduc_average: 12.935832732516221, motheduc_std: 2.3767283698410244, motheduc_zscore: 2.130730348383275\n"
     ]
    }
   ],
   "source": [
    "# Find the average and standard deviation of fatheduc and motheduc and calculate the Z scores values of 18 (years) for fatheduc and motheduc.\n",
    "# Z score is a numerical measurement that describes a value's relationship to the mean of a group of values.\n",
    "# Z score is measured in terms of standard deviations from the mean.\n",
    "\n",
    "fatheduc_average = df['fatheduc'].mean()\n",
    "fatheduc_std = df['fatheduc'].std()\n",
    "fatheduc_zscore = (18 - fatheduc_average) / fatheduc_std\n",
    "\n",
    "\n",
    "motheduc_average = df['motheduc'].mean()\n",
    "motheduc_std = df['motheduc'].std()\n",
    "motheduc_zscore = (18 - motheduc_average) / motheduc_std\n",
    "\n",
    "print(f\"fatheduc_average: {fatheduc_average}, fatheduc_std: {fatheduc_std}, fatheduc_zscore: {fatheduc_zscore}\")\n",
    "print(f\"motheduc_average: {motheduc_average}, motheduc_std: {motheduc_std}, motheduc_zscore: {motheduc_zscore}\")"
   ],
   "metadata": {
    "collapsed": false,
    "ExecuteTime": {
     "end_time": "2023-09-03T10:11:50.998756Z",
     "start_time": "2023-09-03T10:11:50.994312Z"
    }
   },
   "id": "e3302324f3fa1cc4"
  },
  {
   "cell_type": "code",
   "execution_count": 3,
   "outputs": [
    {
     "data": {
      "text/plain": "TtestResult(statistic=nan, pvalue=nan, df=nan)"
     },
     "execution_count": 3,
     "metadata": {},
     "output_type": "execute_result"
    }
   ],
   "source": [
    "# Perform T-test on average education of fatheduc and motheduc.\n",
    "\n",
    "# A t test is a statistical test that is used to compare the means of two groups. \n",
    "# A t test can only be used when comparing the means of two groups \n",
    "\n",
    "# What type of t-test should we use?\n",
    "#   1. One sample t-test: compare the mean of a sample to a known value\n",
    "#   2. Independent samples t-test: compare the means of two unrelated groups\n",
    "#   3. Paired sample t-test: compare means from the same group at different times (say, one year apart)\n",
    "\n",
    "# We will use independent samples t-test\n",
    "group1 = df['fatheduc']\n",
    "group2 = df['motheduc']\n",
    "\n",
    "from scipy.stats import ttest_ind\n",
    "ttest_ind(group1, group2)"
   ],
   "metadata": {
    "collapsed": false,
    "ExecuteTime": {
     "end_time": "2023-09-03T10:19:20.948020Z",
     "start_time": "2023-09-03T10:19:20.287805Z"
    }
   },
   "id": "744f59c877f56d57"
  },
  {
   "cell_type": "code",
   "execution_count": 4,
   "outputs": [
    {
     "data": {
      "text/plain": "TtestResult(statistic=nan, pvalue=nan, df=nan)"
     },
     "execution_count": 4,
     "metadata": {},
     "output_type": "execute_result"
    }
   ],
   "source": [
    "ttest_ind(group1, group2, equal_var=False)\n"
   ],
   "metadata": {
    "collapsed": false,
    "ExecuteTime": {
     "end_time": "2023-09-03T10:22:25.672680Z",
     "start_time": "2023-09-03T10:22:25.660160Z"
    }
   },
   "id": "5ccca6318bced412"
  },
  {
   "cell_type": "code",
   "execution_count": null,
   "outputs": [],
   "source": [],
   "metadata": {
    "collapsed": false
   },
   "id": "e916e384da096397"
  }
 ],
 "metadata": {
  "kernelspec": {
   "display_name": "Python 3",
   "language": "python",
   "name": "python3"
  },
  "language_info": {
   "codemirror_mode": {
    "name": "ipython",
    "version": 2
   },
   "file_extension": ".py",
   "mimetype": "text/x-python",
   "name": "python",
   "nbconvert_exporter": "python",
   "pygments_lexer": "ipython2",
   "version": "2.7.6"
  }
 },
 "nbformat": 4,
 "nbformat_minor": 5
}
